{
 "cells": [
  {
   "cell_type": "code",
   "execution_count": 1,
   "id": "ac46d2ba",
   "metadata": {},
   "outputs": [],
   "source": [
    "import pandas as pd\n",
    "import bs4\n",
    "from bs4 import BeautifulSoup\n",
    "import numpy as np\n",
    "import matplotlib.pyplot as plt\n"
   ]
  },
  {
   "cell_type": "code",
   "execution_count": 2,
   "id": "22ceecb8",
   "metadata": {},
   "outputs": [],
   "source": [
    "import requests"
   ]
  },
  {
   "cell_type": "code",
   "execution_count": 3,
   "id": "ea50c179",
   "metadata": {},
   "outputs": [
    {
     "name": "stdout",
     "output_type": "stream",
     "text": [
      "Requirement already satisfied: lxml in c:\\users\\a\\anaconda3\\lib\\site-packages (4.9.1)\n",
      "Note: you may need to restart the kernel to use updated packages.\n"
     ]
    }
   ],
   "source": [
    "pip install lxml"
   ]
  },
  {
   "cell_type": "code",
   "execution_count": 4,
   "id": "aca2f07d",
   "metadata": {},
   "outputs": [],
   "source": [
    "reviews=[]\n",
    "country=[]\n",
    "date=[]\n",
    "ratings=[]\n"
   ]
  },
  {
   "cell_type": "code",
   "execution_count": 5,
   "id": "d8bb1988",
   "metadata": {},
   "outputs": [],
   "source": [
    "for i in range(1, 36):\n",
    "    page = requests.get(f\"https://www.airlinequality.com/airline-reviews/british-airways/page/{i}/?sortby=post_date%3ADesc&pagesize=100\")\n",
    "    \n",
    "    soup = BeautifulSoup(page.content, \"html5\")\n",
    "    \n",
    "    for item in soup.find_all(\"div\", class_=\"text_content\"):\n",
    "        reviews.append(item.text)\n",
    "    \n",
    "    for item in soup.find_all(\"div\", class_ = \"rating-10\"):\n",
    "        ratings.append(item.text)\n",
    "            \n",
    "    \n",
    "    for item in soup.find_all(\"time\"):\n",
    "        date.append(item.text)\n",
    "        \n",
    "    \n",
    "    for item in soup.find_all(\"h3\"):\n",
    "        country.append(item.span.next_sibling.text.strip(\" \"))"
   ]
  },
  {
   "cell_type": "code",
   "execution_count": 6,
   "id": "04021a0a",
   "metadata": {},
   "outputs": [
    {
     "data": {
      "text/plain": [
       "3506"
      ]
     },
     "execution_count": 6,
     "metadata": {},
     "output_type": "execute_result"
    }
   ],
   "source": [
    "len(ratings)"
   ]
  },
  {
   "cell_type": "code",
   "execution_count": 7,
   "id": "a137570e",
   "metadata": {},
   "outputs": [
    {
     "data": {
      "text/plain": [
       "3471"
      ]
     },
     "execution_count": 7,
     "metadata": {},
     "output_type": "execute_result"
    }
   ],
   "source": [
    "len(country)"
   ]
  },
  {
   "cell_type": "code",
   "execution_count": 8,
   "id": "f54ac148",
   "metadata": {},
   "outputs": [
    {
     "data": {
      "text/plain": [
       "3471"
      ]
     },
     "execution_count": 8,
     "metadata": {},
     "output_type": "execute_result"
    }
   ],
   "source": [
    "len(date)"
   ]
  },
  {
   "cell_type": "code",
   "execution_count": 10,
   "id": "3af4a948",
   "metadata": {},
   "outputs": [
    {
     "data": {
      "text/plain": [
       "3471"
      ]
     },
     "execution_count": 10,
     "metadata": {},
     "output_type": "execute_result"
    }
   ],
   "source": [
    "len(reviews)"
   ]
  },
  {
   "cell_type": "code",
   "execution_count": 11,
   "id": "ec22e40d",
   "metadata": {},
   "outputs": [],
   "source": [
    "review=reviews[:3471]"
   ]
  },
  {
   "cell_type": "code",
   "execution_count": 13,
   "id": "bb1b4adc",
   "metadata": {},
   "outputs": [
    {
     "data": {
      "text/plain": [
       "3471"
      ]
     },
     "execution_count": 13,
     "metadata": {},
     "output_type": "execute_result"
    }
   ],
   "source": [
    "len(review)"
   ]
  },
  {
   "cell_type": "code",
   "execution_count": 16,
   "id": "ec8226ff",
   "metadata": {},
   "outputs": [],
   "source": [
    "ratings=ratings[:3471]"
   ]
  },
  {
   "cell_type": "code",
   "execution_count": 17,
   "id": "e30aca60",
   "metadata": {},
   "outputs": [
    {
     "data": {
      "text/plain": [
       "3471"
      ]
     },
     "execution_count": 17,
     "metadata": {},
     "output_type": "execute_result"
    }
   ],
   "source": [
    "len(ratings)"
   ]
  },
  {
   "cell_type": "code",
   "execution_count": 18,
   "id": "b3454af4",
   "metadata": {},
   "outputs": [],
   "source": [
    "df=pd.DataFrame({\"review\":review,\"ratings\":ratings,\"country\":country,\"date\":date})"
   ]
  },
  {
   "cell_type": "code",
   "execution_count": 19,
   "id": "c97130bc",
   "metadata": {},
   "outputs": [
    {
     "data": {
      "text/html": [
       "<div>\n",
       "<style scoped>\n",
       "    .dataframe tbody tr th:only-of-type {\n",
       "        vertical-align: middle;\n",
       "    }\n",
       "\n",
       "    .dataframe tbody tr th {\n",
       "        vertical-align: top;\n",
       "    }\n",
       "\n",
       "    .dataframe thead th {\n",
       "        text-align: right;\n",
       "    }\n",
       "</style>\n",
       "<table border=\"1\" class=\"dataframe\">\n",
       "  <thead>\n",
       "    <tr style=\"text-align: right;\">\n",
       "      <th></th>\n",
       "      <th>review</th>\n",
       "      <th>ratings</th>\n",
       "      <th>country</th>\n",
       "      <th>date</th>\n",
       "    </tr>\n",
       "  </thead>\n",
       "  <tbody>\n",
       "    <tr>\n",
       "      <th>0</th>\n",
       "      <td>✅ Trip Verified | BA 242 on the 6/2/23. Boardi...</td>\n",
       "      <td>\\n\\t\\t\\t\\t\\t\\t\\t\\t\\t\\t\\n\\t\\t\\t\\t\\t\\t\\t\\t\\t\\t\\t...</td>\n",
       "      <td>(United Kingdom)</td>\n",
       "      <td>7th February 2023</td>\n",
       "    </tr>\n",
       "    <tr>\n",
       "      <th>1</th>\n",
       "      <td>✅ Trip Verified |  Not only my first flight in...</td>\n",
       "      <td>\\n                        9/10\\n              ...</td>\n",
       "      <td>(Spain)</td>\n",
       "      <td>6th February 2023</td>\n",
       "    </tr>\n",
       "    <tr>\n",
       "      <th>2</th>\n",
       "      <td>✅ Trip Verified |  My husband and myself were ...</td>\n",
       "      <td>\\n                        10/10\\n             ...</td>\n",
       "      <td>(United Kingdom)</td>\n",
       "      <td>4th February 2023</td>\n",
       "    </tr>\n",
       "    <tr>\n",
       "      <th>3</th>\n",
       "      <td>✅ Trip Verified | Organised boarding process. ...</td>\n",
       "      <td>\\n                        10/10\\n             ...</td>\n",
       "      <td>(United Kingdom)</td>\n",
       "      <td>31st January 2023</td>\n",
       "    </tr>\n",
       "    <tr>\n",
       "      <th>4</th>\n",
       "      <td>✅ Trip Verified |  Outward journey BA245 Londo...</td>\n",
       "      <td>\\n                        10/10\\n             ...</td>\n",
       "      <td>(United Kingdom)</td>\n",
       "      <td>31st January 2023</td>\n",
       "    </tr>\n",
       "  </tbody>\n",
       "</table>\n",
       "</div>"
      ],
      "text/plain": [
       "                                              review  \\\n",
       "0  ✅ Trip Verified | BA 242 on the 6/2/23. Boardi...   \n",
       "1  ✅ Trip Verified |  Not only my first flight in...   \n",
       "2  ✅ Trip Verified |  My husband and myself were ...   \n",
       "3  ✅ Trip Verified | Organised boarding process. ...   \n",
       "4  ✅ Trip Verified |  Outward journey BA245 Londo...   \n",
       "\n",
       "                                             ratings           country  \\\n",
       "0  \\n\\t\\t\\t\\t\\t\\t\\t\\t\\t\\t\\n\\t\\t\\t\\t\\t\\t\\t\\t\\t\\t\\t...  (United Kingdom)   \n",
       "1  \\n                        9/10\\n              ...           (Spain)   \n",
       "2  \\n                        10/10\\n             ...  (United Kingdom)   \n",
       "3  \\n                        10/10\\n             ...  (United Kingdom)   \n",
       "4  \\n                        10/10\\n             ...  (United Kingdom)   \n",
       "\n",
       "                date  \n",
       "0  7th February 2023  \n",
       "1  6th February 2023  \n",
       "2  4th February 2023  \n",
       "3  31st January 2023  \n",
       "4  31st January 2023  "
      ]
     },
     "execution_count": 19,
     "metadata": {},
     "output_type": "execute_result"
    }
   ],
   "source": [
    "df.head()"
   ]
  },
  {
   "cell_type": "code",
   "execution_count": 20,
   "id": "645f623a",
   "metadata": {},
   "outputs": [
    {
     "name": "stdout",
     "output_type": "stream",
     "text": [
      "<class 'pandas.core.frame.DataFrame'>\n",
      "RangeIndex: 3471 entries, 0 to 3470\n",
      "Data columns (total 4 columns):\n",
      " #   Column   Non-Null Count  Dtype \n",
      "---  ------   --------------  ----- \n",
      " 0   review   3471 non-null   object\n",
      " 1   ratings  3471 non-null   object\n",
      " 2   country  3471 non-null   object\n",
      " 3   date     3471 non-null   object\n",
      "dtypes: object(4)\n",
      "memory usage: 108.6+ KB\n"
     ]
    }
   ],
   "source": [
    "df.info()"
   ]
  },
  {
   "cell_type": "code",
   "execution_count": 21,
   "id": "594669fe",
   "metadata": {},
   "outputs": [],
   "source": [
    "df.to_csv('Ba_data')"
   ]
  },
  {
   "cell_type": "code",
   "execution_count": null,
   "id": "656fc8c4",
   "metadata": {},
   "outputs": [],
   "source": []
  }
 ],
 "metadata": {
  "kernelspec": {
   "display_name": "Python 3 (ipykernel)",
   "language": "python",
   "name": "python3"
  },
  "language_info": {
   "codemirror_mode": {
    "name": "ipython",
    "version": 3
   },
   "file_extension": ".py",
   "mimetype": "text/x-python",
   "name": "python",
   "nbconvert_exporter": "python",
   "pygments_lexer": "ipython3",
   "version": "3.9.13"
  }
 },
 "nbformat": 4,
 "nbformat_minor": 5
}
