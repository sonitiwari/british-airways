{
 "cells": [
  {
   "cell_type": "markdown",
   "id": "15e6d2cb",
   "metadata": {},
   "source": [
    "BA data cleaning\n"
   ]
  },
  {
   "cell_type": "code",
   "execution_count": 1,
   "id": "7b877f11",
   "metadata": {},
   "outputs": [],
   "source": [
    "import pandas as pd\n",
    "import numpy as np\n",
    "import matplotlib.pyplot as plt\n",
    "import seaborn as sns\n",
    "%matplotlib inline"
   ]
  },
  {
   "cell_type": "code",
   "execution_count": 2,
   "id": "79a09ed1",
   "metadata": {},
   "outputs": [],
   "source": [
    "df=pd.read_csv('ba1_r.csv')"
   ]
  },
  {
   "cell_type": "code",
   "execution_count": 3,
   "id": "75a0ef73",
   "metadata": {},
   "outputs": [
    {
     "data": {
      "text/html": [
       "<div>\n",
       "<style scoped>\n",
       "    .dataframe tbody tr th:only-of-type {\n",
       "        vertical-align: middle;\n",
       "    }\n",
       "\n",
       "    .dataframe tbody tr th {\n",
       "        vertical-align: top;\n",
       "    }\n",
       "\n",
       "    .dataframe thead th {\n",
       "        text-align: right;\n",
       "    }\n",
       "</style>\n",
       "<table border=\"1\" class=\"dataframe\">\n",
       "  <thead>\n",
       "    <tr style=\"text-align: right;\">\n",
       "      <th></th>\n",
       "      <th>Unnamed: 0</th>\n",
       "      <th>country</th>\n",
       "      <th>date</th>\n",
       "      <th>reviews</th>\n",
       "      <th>rating</th>\n",
       "    </tr>\n",
       "  </thead>\n",
       "  <tbody>\n",
       "    <tr>\n",
       "      <th>0</th>\n",
       "      <td>0</td>\n",
       "      <td>(United Kingdom)</td>\n",
       "      <td>24th January 2023</td>\n",
       "      <td>✅ Trip Verified | Excellent service both on th...</td>\n",
       "      <td>3</td>\n",
       "    </tr>\n",
       "    <tr>\n",
       "      <th>1</th>\n",
       "      <td>1</td>\n",
       "      <td>(United Kingdom)</td>\n",
       "      <td>24th January 2023</td>\n",
       "      <td>✅ Trip Verified |  Good lounge at Cape Town. O...</td>\n",
       "      <td>4</td>\n",
       "    </tr>\n",
       "    <tr>\n",
       "      <th>2</th>\n",
       "      <td>2</td>\n",
       "      <td>(United Kingdom)</td>\n",
       "      <td>23rd January 2023</td>\n",
       "      <td>✅ Trip Verified |  A really excellent journey....</td>\n",
       "      <td>3</td>\n",
       "    </tr>\n",
       "    <tr>\n",
       "      <th>3</th>\n",
       "      <td>3</td>\n",
       "      <td>(United Kingdom)</td>\n",
       "      <td>21st January 2023</td>\n",
       "      <td>✅ Trip Verified |  This flight was one of the ...</td>\n",
       "      <td>1</td>\n",
       "    </tr>\n",
       "    <tr>\n",
       "      <th>4</th>\n",
       "      <td>4</td>\n",
       "      <td>(United States)</td>\n",
       "      <td>19th January 2023</td>\n",
       "      <td>Not Verified | It seems that there is a race t...</td>\n",
       "      <td>9</td>\n",
       "    </tr>\n",
       "  </tbody>\n",
       "</table>\n",
       "</div>"
      ],
      "text/plain": [
       "   Unnamed: 0             country               date  \\\n",
       "0           0   (United Kingdom)   24th January 2023   \n",
       "1           1   (United Kingdom)   24th January 2023   \n",
       "2           2   (United Kingdom)   23rd January 2023   \n",
       "3           3   (United Kingdom)   21st January 2023   \n",
       "4           4    (United States)   19th January 2023   \n",
       "\n",
       "                                             reviews rating  \n",
       "0  ✅ Trip Verified | Excellent service both on th...      3  \n",
       "1  ✅ Trip Verified |  Good lounge at Cape Town. O...      4  \n",
       "2  ✅ Trip Verified |  A really excellent journey....      3  \n",
       "3  ✅ Trip Verified |  This flight was one of the ...      1  \n",
       "4  Not Verified | It seems that there is a race t...      9  "
      ]
     },
     "execution_count": 3,
     "metadata": {},
     "output_type": "execute_result"
    }
   ],
   "source": [
    "df.head()"
   ]
  },
  {
   "cell_type": "code",
   "execution_count": 4,
   "id": "0b7c8076",
   "metadata": {},
   "outputs": [],
   "source": [
    "df.drop('Unnamed: 0',axis=1,inplace=True)"
   ]
  },
  {
   "cell_type": "code",
   "execution_count": 5,
   "id": "bc6003f6",
   "metadata": {},
   "outputs": [
    {
     "data": {
      "text/html": [
       "<div>\n",
       "<style scoped>\n",
       "    .dataframe tbody tr th:only-of-type {\n",
       "        vertical-align: middle;\n",
       "    }\n",
       "\n",
       "    .dataframe tbody tr th {\n",
       "        vertical-align: top;\n",
       "    }\n",
       "\n",
       "    .dataframe thead th {\n",
       "        text-align: right;\n",
       "    }\n",
       "</style>\n",
       "<table border=\"1\" class=\"dataframe\">\n",
       "  <thead>\n",
       "    <tr style=\"text-align: right;\">\n",
       "      <th></th>\n",
       "      <th>country</th>\n",
       "      <th>date</th>\n",
       "      <th>reviews</th>\n",
       "      <th>rating</th>\n",
       "    </tr>\n",
       "  </thead>\n",
       "  <tbody>\n",
       "    <tr>\n",
       "      <th>0</th>\n",
       "      <td>(United Kingdom)</td>\n",
       "      <td>24th January 2023</td>\n",
       "      <td>✅ Trip Verified | Excellent service both on th...</td>\n",
       "      <td>3</td>\n",
       "    </tr>\n",
       "    <tr>\n",
       "      <th>1</th>\n",
       "      <td>(United Kingdom)</td>\n",
       "      <td>24th January 2023</td>\n",
       "      <td>✅ Trip Verified |  Good lounge at Cape Town. O...</td>\n",
       "      <td>4</td>\n",
       "    </tr>\n",
       "    <tr>\n",
       "      <th>2</th>\n",
       "      <td>(United Kingdom)</td>\n",
       "      <td>23rd January 2023</td>\n",
       "      <td>✅ Trip Verified |  A really excellent journey....</td>\n",
       "      <td>3</td>\n",
       "    </tr>\n",
       "    <tr>\n",
       "      <th>3</th>\n",
       "      <td>(United Kingdom)</td>\n",
       "      <td>21st January 2023</td>\n",
       "      <td>✅ Trip Verified |  This flight was one of the ...</td>\n",
       "      <td>1</td>\n",
       "    </tr>\n",
       "    <tr>\n",
       "      <th>4</th>\n",
       "      <td>(United States)</td>\n",
       "      <td>19th January 2023</td>\n",
       "      <td>Not Verified | It seems that there is a race t...</td>\n",
       "      <td>9</td>\n",
       "    </tr>\n",
       "  </tbody>\n",
       "</table>\n",
       "</div>"
      ],
      "text/plain": [
       "              country               date  \\\n",
       "0   (United Kingdom)   24th January 2023   \n",
       "1   (United Kingdom)   24th January 2023   \n",
       "2   (United Kingdom)   23rd January 2023   \n",
       "3   (United Kingdom)   21st January 2023   \n",
       "4    (United States)   19th January 2023   \n",
       "\n",
       "                                             reviews rating  \n",
       "0  ✅ Trip Verified | Excellent service both on th...      3  \n",
       "1  ✅ Trip Verified |  Good lounge at Cape Town. O...      4  \n",
       "2  ✅ Trip Verified |  A really excellent journey....      3  \n",
       "3  ✅ Trip Verified |  This flight was one of the ...      1  \n",
       "4  Not Verified | It seems that there is a race t...      9  "
      ]
     },
     "execution_count": 5,
     "metadata": {},
     "output_type": "execute_result"
    }
   ],
   "source": [
    "df.head()"
   ]
  },
  {
   "cell_type": "code",
   "execution_count": 6,
   "id": "079a6a76",
   "metadata": {},
   "outputs": [],
   "source": [
    "df.date=pd.to_datetime(df.date)"
   ]
  },
  {
   "cell_type": "code",
   "execution_count": 7,
   "id": "36217ce4",
   "metadata": {},
   "outputs": [
    {
     "data": {
      "text/html": [
       "<div>\n",
       "<style scoped>\n",
       "    .dataframe tbody tr th:only-of-type {\n",
       "        vertical-align: middle;\n",
       "    }\n",
       "\n",
       "    .dataframe tbody tr th {\n",
       "        vertical-align: top;\n",
       "    }\n",
       "\n",
       "    .dataframe thead th {\n",
       "        text-align: right;\n",
       "    }\n",
       "</style>\n",
       "<table border=\"1\" class=\"dataframe\">\n",
       "  <thead>\n",
       "    <tr style=\"text-align: right;\">\n",
       "      <th></th>\n",
       "      <th>country</th>\n",
       "      <th>date</th>\n",
       "      <th>reviews</th>\n",
       "      <th>rating</th>\n",
       "    </tr>\n",
       "  </thead>\n",
       "  <tbody>\n",
       "    <tr>\n",
       "      <th>0</th>\n",
       "      <td>(United Kingdom)</td>\n",
       "      <td>2023-01-24</td>\n",
       "      <td>✅ Trip Verified | Excellent service both on th...</td>\n",
       "      <td>3</td>\n",
       "    </tr>\n",
       "    <tr>\n",
       "      <th>1</th>\n",
       "      <td>(United Kingdom)</td>\n",
       "      <td>2023-01-24</td>\n",
       "      <td>✅ Trip Verified |  Good lounge at Cape Town. O...</td>\n",
       "      <td>4</td>\n",
       "    </tr>\n",
       "    <tr>\n",
       "      <th>2</th>\n",
       "      <td>(United Kingdom)</td>\n",
       "      <td>2023-01-23</td>\n",
       "      <td>✅ Trip Verified |  A really excellent journey....</td>\n",
       "      <td>3</td>\n",
       "    </tr>\n",
       "    <tr>\n",
       "      <th>3</th>\n",
       "      <td>(United Kingdom)</td>\n",
       "      <td>2023-01-21</td>\n",
       "      <td>✅ Trip Verified |  This flight was one of the ...</td>\n",
       "      <td>1</td>\n",
       "    </tr>\n",
       "    <tr>\n",
       "      <th>4</th>\n",
       "      <td>(United States)</td>\n",
       "      <td>2023-01-19</td>\n",
       "      <td>Not Verified | It seems that there is a race t...</td>\n",
       "      <td>9</td>\n",
       "    </tr>\n",
       "  </tbody>\n",
       "</table>\n",
       "</div>"
      ],
      "text/plain": [
       "              country       date  \\\n",
       "0   (United Kingdom)  2023-01-24   \n",
       "1   (United Kingdom)  2023-01-24   \n",
       "2   (United Kingdom)  2023-01-23   \n",
       "3   (United Kingdom)  2023-01-21   \n",
       "4    (United States)  2023-01-19   \n",
       "\n",
       "                                             reviews rating  \n",
       "0  ✅ Trip Verified | Excellent service both on th...      3  \n",
       "1  ✅ Trip Verified |  Good lounge at Cape Town. O...      4  \n",
       "2  ✅ Trip Verified |  A really excellent journey....      3  \n",
       "3  ✅ Trip Verified |  This flight was one of the ...      1  \n",
       "4  Not Verified | It seems that there is a race t...      9  "
      ]
     },
     "execution_count": 7,
     "metadata": {},
     "output_type": "execute_result"
    }
   ],
   "source": [
    "df.head()"
   ]
  },
  {
   "cell_type": "code",
   "execution_count": 8,
   "id": "3203cea1",
   "metadata": {},
   "outputs": [
    {
     "name": "stdout",
     "output_type": "stream",
     "text": [
      "<class 'pandas.core.frame.DataFrame'>\n",
      "RangeIndex: 3464 entries, 0 to 3463\n",
      "Data columns (total 4 columns):\n",
      " #   Column   Non-Null Count  Dtype         \n",
      "---  ------   --------------  -----         \n",
      " 0   country  3464 non-null   object        \n",
      " 1   date     3464 non-null   datetime64[ns]\n",
      " 2   reviews  3464 non-null   object        \n",
      " 3   rating   3464 non-null   object        \n",
      "dtypes: datetime64[ns](1), object(3)\n",
      "memory usage: 108.4+ KB\n"
     ]
    }
   ],
   "source": [
    "df.info()"
   ]
  },
  {
   "cell_type": "code",
   "execution_count": 9,
   "id": "0bb2e3ff",
   "metadata": {},
   "outputs": [
    {
     "data": {
      "text/plain": [
       "<AxesSubplot:>"
      ]
     },
     "execution_count": 9,
     "metadata": {},
     "output_type": "execute_result"
    },
    {
     "data": {
      "image/png": "[encoded data removed]",
      "text/plain": [
       "<Figure size 640x480 with 1 Axes>"
      ]
     },
     "metadata": {},
     "output_type": "display_data"
    }
   ],
   "source": [
    "df['country'].value_counts().head().plot(kind='bar')"
   ]
  },
  {
   "cell_type": "code",
   "execution_count": 10,
   "id": "dd9d7d78",
   "metadata": {},
   "outputs": [
    {
     "data": {
      "text/html": [
       "<div>\n",
       "<style scoped>\n",
       "    .dataframe tbody tr th:only-of-type {\n",
       "        vertical-align: middle;\n",
       "    }\n",
       "\n",
       "    .dataframe tbody tr th {\n",
       "        vertical-align: top;\n",
       "    }\n",
       "\n",
       "    .dataframe thead th {\n",
       "        text-align: right;\n",
       "    }\n",
       "</style>\n",
       "<table border=\"1\" class=\"dataframe\">\n",
       "  <thead>\n",
       "    <tr style=\"text-align: right;\">\n",
       "      <th></th>\n",
       "      <th>country</th>\n",
       "      <th>date</th>\n",
       "      <th>reviews</th>\n",
       "      <th>rating</th>\n",
       "    </tr>\n",
       "  </thead>\n",
       "  <tbody>\n",
       "    <tr>\n",
       "      <th>0</th>\n",
       "      <td>(United Kingdom)</td>\n",
       "      <td>2023-01-24</td>\n",
       "      <td>✅ Trip Verified | Excellent service both on th...</td>\n",
       "      <td>3</td>\n",
       "    </tr>\n",
       "    <tr>\n",
       "      <th>1</th>\n",
       "      <td>(United Kingdom)</td>\n",
       "      <td>2023-01-24</td>\n",
       "      <td>✅ Trip Verified |  Good lounge at Cape Town. O...</td>\n",
       "      <td>4</td>\n",
       "    </tr>\n",
       "    <tr>\n",
       "      <th>2</th>\n",
       "      <td>(United Kingdom)</td>\n",
       "      <td>2023-01-23</td>\n",
       "      <td>✅ Trip Verified |  A really excellent journey....</td>\n",
       "      <td>3</td>\n",
       "    </tr>\n",
       "    <tr>\n",
       "      <th>3</th>\n",
       "      <td>(United Kingdom)</td>\n",
       "      <td>2023-01-21</td>\n",
       "      <td>✅ Trip Verified |  This flight was one of the ...</td>\n",
       "      <td>1</td>\n",
       "    </tr>\n",
       "    <tr>\n",
       "      <th>4</th>\n",
       "      <td>(United States)</td>\n",
       "      <td>2023-01-19</td>\n",
       "      <td>Not Verified | It seems that there is a race t...</td>\n",
       "      <td>9</td>\n",
       "    </tr>\n",
       "  </tbody>\n",
       "</table>\n",
       "</div>"
      ],
      "text/plain": [
       "              country       date  \\\n",
       "0   (United Kingdom)  2023-01-24   \n",
       "1   (United Kingdom)  2023-01-24   \n",
       "2   (United Kingdom)  2023-01-23   \n",
       "3   (United Kingdom)  2023-01-21   \n",
       "4    (United States)  2023-01-19   \n",
       "\n",
       "                                             reviews rating  \n",
       "0  ✅ Trip Verified | Excellent service both on th...      3  \n",
       "1  ✅ Trip Verified |  Good lounge at Cape Town. O...      4  \n",
       "2  ✅ Trip Verified |  A really excellent journey....      3  \n",
       "3  ✅ Trip Verified |  This flight was one of the ...      1  \n",
       "4  Not Verified | It seems that there is a race t...      9  "
      ]
     },
     "execution_count": 10,
     "metadata": {},
     "output_type": "execute_result"
    }
   ],
   "source": [
    "df.head()"
   ]
  },
  {
   "cell_type": "code",
   "execution_count": 11,
   "id": "1948237c",
   "metadata": {},
   "outputs": [],
   "source": [
    "df['verified']=df.reviews.str.contains('Trip Verified')"
   ]
  },
  {
   "cell_type": "code",
   "execution_count": 12,
   "id": "d68ea5f1",
   "metadata": {},
   "outputs": [
    {
     "data": {
      "text/plain": [
       "0        True\n",
       "1        True\n",
       "2        True\n",
       "3        True\n",
       "4       False\n",
       "        ...  \n",
       "3459    False\n",
       "3460    False\n",
       "3461    False\n",
       "3462    False\n",
       "3463    False\n",
       "Name: verified, Length: 3464, dtype: bool"
      ]
     },
     "execution_count": 12,
     "metadata": {},
     "output_type": "execute_result"
    }
   ],
   "source": [
    "df['verified']"
   ]
  },
  {
   "cell_type": "code",
   "execution_count": 13,
   "id": "ea4a9e01",
   "metadata": {},
   "outputs": [
    {
     "data": {
      "text/html": [
       "<div>\n",
       "<style scoped>\n",
       "    .dataframe tbody tr th:only-of-type {\n",
       "        vertical-align: middle;\n",
       "    }\n",
       "\n",
       "    .dataframe tbody tr th {\n",
       "        vertical-align: top;\n",
       "    }\n",
       "\n",
       "    .dataframe thead th {\n",
       "        text-align: right;\n",
       "    }\n",
       "</style>\n",
       "<table border=\"1\" class=\"dataframe\">\n",
       "  <thead>\n",
       "    <tr style=\"text-align: right;\">\n",
       "      <th></th>\n",
       "      <th>country</th>\n",
       "      <th>date</th>\n",
       "      <th>reviews</th>\n",
       "      <th>rating</th>\n",
       "      <th>verified</th>\n",
       "    </tr>\n",
       "  </thead>\n",
       "  <tbody>\n",
       "    <tr>\n",
       "      <th>0</th>\n",
       "      <td>(United Kingdom)</td>\n",
       "      <td>2023-01-24</td>\n",
       "      <td>✅ Trip Verified | Excellent service both on th...</td>\n",
       "      <td>3</td>\n",
       "      <td>True</td>\n",
       "    </tr>\n",
       "    <tr>\n",
       "      <th>1</th>\n",
       "      <td>(United Kingdom)</td>\n",
       "      <td>2023-01-24</td>\n",
       "      <td>✅ Trip Verified |  Good lounge at Cape Town. O...</td>\n",
       "      <td>4</td>\n",
       "      <td>True</td>\n",
       "    </tr>\n",
       "    <tr>\n",
       "      <th>2</th>\n",
       "      <td>(United Kingdom)</td>\n",
       "      <td>2023-01-23</td>\n",
       "      <td>✅ Trip Verified |  A really excellent journey....</td>\n",
       "      <td>3</td>\n",
       "      <td>True</td>\n",
       "    </tr>\n",
       "    <tr>\n",
       "      <th>3</th>\n",
       "      <td>(United Kingdom)</td>\n",
       "      <td>2023-01-21</td>\n",
       "      <td>✅ Trip Verified |  This flight was one of the ...</td>\n",
       "      <td>1</td>\n",
       "      <td>True</td>\n",
       "    </tr>\n",
       "    <tr>\n",
       "      <th>4</th>\n",
       "      <td>(United States)</td>\n",
       "      <td>2023-01-19</td>\n",
       "      <td>Not Verified | It seems that there is a race t...</td>\n",
       "      <td>9</td>\n",
       "      <td>False</td>\n",
       "    </tr>\n",
       "  </tbody>\n",
       "</table>\n",
       "</div>"
      ],
      "text/plain": [
       "              country       date  \\\n",
       "0   (United Kingdom)  2023-01-24   \n",
       "1   (United Kingdom)  2023-01-24   \n",
       "2   (United Kingdom)  2023-01-23   \n",
       "3   (United Kingdom)  2023-01-21   \n",
       "4    (United States)  2023-01-19   \n",
       "\n",
       "                                             reviews rating  verified  \n",
       "0  ✅ Trip Verified | Excellent service both on th...      3      True  \n",
       "1  ✅ Trip Verified |  Good lounge at Cape Town. O...      4      True  \n",
       "2  ✅ Trip Verified |  A really excellent journey....      3      True  \n",
       "3  ✅ Trip Verified |  This flight was one of the ...      1      True  \n",
       "4  Not Verified | It seems that there is a race t...      9     False  "
      ]
     },
     "execution_count": 13,
     "metadata": {},
     "output_type": "execute_result"
    }
   ],
   "source": [
    "df.head()"
   ]
  },
  {
   "cell_type": "code",
   "execution_count": 14,
   "id": "a239dabf",
   "metadata": {},
   "outputs": [
    {
     "data": {
      "text/html": [
       "<div>\n",
       "<style scoped>\n",
       "    .dataframe tbody tr th:only-of-type {\n",
       "        vertical-align: middle;\n",
       "    }\n",
       "\n",
       "    .dataframe tbody tr th {\n",
       "        vertical-align: top;\n",
       "    }\n",
       "\n",
       "    .dataframe thead th {\n",
       "        text-align: right;\n",
       "    }\n",
       "</style>\n",
       "<table border=\"1\" class=\"dataframe\">\n",
       "  <thead>\n",
       "    <tr style=\"text-align: right;\">\n",
       "      <th></th>\n",
       "      <th>country</th>\n",
       "      <th>date</th>\n",
       "      <th>reviews</th>\n",
       "      <th>rating</th>\n",
       "      <th>verified</th>\n",
       "    </tr>\n",
       "  </thead>\n",
       "  <tbody>\n",
       "    <tr>\n",
       "      <th>0</th>\n",
       "      <td>(United Kingdom)</td>\n",
       "      <td>2023-01-24</td>\n",
       "      <td>✅ Trip Verified | Excellent service both on th...</td>\n",
       "      <td>3</td>\n",
       "      <td>True</td>\n",
       "    </tr>\n",
       "    <tr>\n",
       "      <th>1</th>\n",
       "      <td>(United Kingdom)</td>\n",
       "      <td>2023-01-24</td>\n",
       "      <td>✅ Trip Verified |  Good lounge at Cape Town. O...</td>\n",
       "      <td>4</td>\n",
       "      <td>True</td>\n",
       "    </tr>\n",
       "    <tr>\n",
       "      <th>2</th>\n",
       "      <td>(United Kingdom)</td>\n",
       "      <td>2023-01-23</td>\n",
       "      <td>✅ Trip Verified |  A really excellent journey....</td>\n",
       "      <td>3</td>\n",
       "      <td>True</td>\n",
       "    </tr>\n",
       "    <tr>\n",
       "      <th>3</th>\n",
       "      <td>(United Kingdom)</td>\n",
       "      <td>2023-01-21</td>\n",
       "      <td>✅ Trip Verified |  This flight was one of the ...</td>\n",
       "      <td>1</td>\n",
       "      <td>True</td>\n",
       "    </tr>\n",
       "    <tr>\n",
       "      <th>4</th>\n",
       "      <td>(United States)</td>\n",
       "      <td>2023-01-19</td>\n",
       "      <td>Not Verified | It seems that there is a race t...</td>\n",
       "      <td>9</td>\n",
       "      <td>False</td>\n",
       "    </tr>\n",
       "  </tbody>\n",
       "</table>\n",
       "</div>"
      ],
      "text/plain": [
       "              country       date  \\\n",
       "0   (United Kingdom)  2023-01-24   \n",
       "1   (United Kingdom)  2023-01-24   \n",
       "2   (United Kingdom)  2023-01-23   \n",
       "3   (United Kingdom)  2023-01-21   \n",
       "4    (United States)  2023-01-19   \n",
       "\n",
       "                                             reviews rating  verified  \n",
       "0  ✅ Trip Verified | Excellent service both on th...      3      True  \n",
       "1  ✅ Trip Verified |  Good lounge at Cape Town. O...      4      True  \n",
       "2  ✅ Trip Verified |  A really excellent journey....      3      True  \n",
       "3  ✅ Trip Verified |  This flight was one of the ...      1      True  \n",
       "4  Not Verified | It seems that there is a race t...      9     False  "
      ]
     },
     "execution_count": 14,
     "metadata": {},
     "output_type": "execute_result"
    }
   ],
   "source": [
    "df.reset_index(drop=True).head()"
   ]
  },
  {
   "cell_type": "code",
   "execution_count": 15,
   "id": "dbc7f4c5",
   "metadata": {},
   "outputs": [
    {
     "data": {
      "text/plain": [
       "1                                743\n",
       "2                                388\n",
       "3                                380\n",
       "8                                354\n",
       "10                               310\n",
       "7                                305\n",
       "9                                298\n",
       "4                                237\n",
       "5                                226\n",
       "6                                184\n",
       "\\n\\t\\t\\t\\t\\t\\t\\t\\t\\t\\t\\t\\t\\t5     34\n",
       "none                               5\n",
       "Name: rating, dtype: int64"
      ]
     },
     "execution_count": 15,
     "metadata": {},
     "output_type": "execute_result"
    }
   ],
   "source": [
    "df['rating'].value_counts()"
   ]
  },
  {
   "cell_type": "code",
   "execution_count": 16,
   "id": "52420bbb",
   "metadata": {},
   "outputs": [],
   "source": [
    "df['rating']=df.rating.str.strip(\"\\n\\t\\t\\t\\t\\t\\t\\t\\t\\t\\t\\t\\t\")"
   ]
  },
  {
   "cell_type": "code",
   "execution_count": 17,
   "id": "c61ff4aa",
   "metadata": {},
   "outputs": [
    {
     "data": {
      "text/plain": [
       "1       743\n",
       "2       388\n",
       "3       380\n",
       "8       354\n",
       "10      310\n",
       "7       305\n",
       "9       298\n",
       "5       260\n",
       "4       237\n",
       "6       184\n",
       "none      5\n",
       "Name: rating, dtype: int64"
      ]
     },
     "execution_count": 17,
     "metadata": {},
     "output_type": "execute_result"
    }
   ],
   "source": [
    "df['rating'].value_counts()"
   ]
  },
  {
   "cell_type": "code",
   "execution_count": 18,
   "id": "26a26230",
   "metadata": {},
   "outputs": [],
   "source": [
    "df.drop(df[df.rating=='none'].index,axis=0,inplace=True)"
   ]
  },
  {
   "cell_type": "code",
   "execution_count": 19,
   "id": "9e54e6d5",
   "metadata": {},
   "outputs": [
    {
     "data": {
      "text/plain": [
       "<AxesSubplot:>"
      ]
     },
     "execution_count": 19,
     "metadata": {},
     "output_type": "execute_result"
    },
    {
     "data": {
      "image/png": "[encoded data removed]",
      "text/plain": [
       "<Figure size 640x480 with 1 Axes>"
      ]
     },
     "metadata": {},
     "output_type": "display_data"
    }
   ],
   "source": [
    "df['rating'].value_counts().plot(kind='bar')"
   ]
  },
  {
   "cell_type": "code",
   "execution_count": 20,
   "id": "c353885e",
   "metadata": {},
   "outputs": [
    {
     "data": {
      "text/plain": [
       "count     3459\n",
       "unique      10\n",
       "top          1\n",
       "freq       743\n",
       "Name: rating, dtype: object"
      ]
     },
     "execution_count": 20,
     "metadata": {},
     "output_type": "execute_result"
    }
   ],
   "source": [
    "df.rating.describe()"
   ]
  },
  {
   "cell_type": "code",
   "execution_count": 21,
   "id": "1a9290a3",
   "metadata": {},
   "outputs": [
    {
     "name": "stdout",
     "output_type": "stream",
     "text": [
      "<class 'pandas.core.frame.DataFrame'>\n",
      "Int64Index: 3459 entries, 0 to 3463\n",
      "Data columns (total 5 columns):\n",
      " #   Column    Non-Null Count  Dtype         \n",
      "---  ------    --------------  -----         \n",
      " 0   country   3459 non-null   object        \n",
      " 1   date      3459 non-null   datetime64[ns]\n",
      " 2   reviews   3459 non-null   object        \n",
      " 3   rating    3459 non-null   object        \n",
      " 4   verified  3459 non-null   bool          \n",
      "dtypes: bool(1), datetime64[ns](1), object(3)\n",
      "memory usage: 138.5+ KB\n"
     ]
    }
   ],
   "source": [
    "df.info()"
   ]
  },
  {
   "cell_type": "code",
   "execution_count": 22,
   "id": "4cdcb757",
   "metadata": {},
   "outputs": [
    {
     "data": {
      "text/html": [
       "<div>\n",
       "<style scoped>\n",
       "    .dataframe tbody tr th:only-of-type {\n",
       "        vertical-align: middle;\n",
       "    }\n",
       "\n",
       "    .dataframe tbody tr th {\n",
       "        vertical-align: top;\n",
       "    }\n",
       "\n",
       "    .dataframe thead th {\n",
       "        text-align: right;\n",
       "    }\n",
       "</style>\n",
       "<table border=\"1\" class=\"dataframe\">\n",
       "  <thead>\n",
       "    <tr style=\"text-align: right;\">\n",
       "      <th></th>\n",
       "      <th>country</th>\n",
       "      <th>date</th>\n",
       "      <th>reviews</th>\n",
       "      <th>rating</th>\n",
       "      <th>verified</th>\n",
       "    </tr>\n",
       "  </thead>\n",
       "  <tbody>\n",
       "    <tr>\n",
       "      <th>0</th>\n",
       "      <td>(United Kingdom)</td>\n",
       "      <td>2023-01-24</td>\n",
       "      <td>✅ Trip Verified | Excellent service both on th...</td>\n",
       "      <td>3</td>\n",
       "      <td>True</td>\n",
       "    </tr>\n",
       "    <tr>\n",
       "      <th>1</th>\n",
       "      <td>(United Kingdom)</td>\n",
       "      <td>2023-01-24</td>\n",
       "      <td>✅ Trip Verified |  Good lounge at Cape Town. O...</td>\n",
       "      <td>4</td>\n",
       "      <td>True</td>\n",
       "    </tr>\n",
       "    <tr>\n",
       "      <th>2</th>\n",
       "      <td>(United Kingdom)</td>\n",
       "      <td>2023-01-23</td>\n",
       "      <td>✅ Trip Verified |  A really excellent journey....</td>\n",
       "      <td>3</td>\n",
       "      <td>True</td>\n",
       "    </tr>\n",
       "    <tr>\n",
       "      <th>3</th>\n",
       "      <td>(United Kingdom)</td>\n",
       "      <td>2023-01-21</td>\n",
       "      <td>✅ Trip Verified |  This flight was one of the ...</td>\n",
       "      <td>1</td>\n",
       "      <td>True</td>\n",
       "    </tr>\n",
       "    <tr>\n",
       "      <th>4</th>\n",
       "      <td>(United States)</td>\n",
       "      <td>2023-01-19</td>\n",
       "      <td>Not Verified | It seems that there is a race t...</td>\n",
       "      <td>9</td>\n",
       "      <td>False</td>\n",
       "    </tr>\n",
       "    <tr>\n",
       "      <th>...</th>\n",
       "      <td>...</td>\n",
       "      <td>...</td>\n",
       "      <td>...</td>\n",
       "      <td>...</td>\n",
       "      <td>...</td>\n",
       "    </tr>\n",
       "    <tr>\n",
       "      <th>3454</th>\n",
       "      <td>(Canada)</td>\n",
       "      <td>2012-08-29</td>\n",
       "      <td>YYZ to LHR - July 2012 - I flew overnight in p...</td>\n",
       "      <td>8</td>\n",
       "      <td>False</td>\n",
       "    </tr>\n",
       "    <tr>\n",
       "      <th>3455</th>\n",
       "      <td>(United Kingdom)</td>\n",
       "      <td>2012-08-28</td>\n",
       "      <td>LHR to HAM. Purser addresses all club passenge...</td>\n",
       "      <td>9</td>\n",
       "      <td>False</td>\n",
       "    </tr>\n",
       "    <tr>\n",
       "      <th>3456</th>\n",
       "      <td>(United Kingdom)</td>\n",
       "      <td>2011-10-12</td>\n",
       "      <td>My son who had worked for British Airways urge...</td>\n",
       "      <td>5</td>\n",
       "      <td>False</td>\n",
       "    </tr>\n",
       "    <tr>\n",
       "      <th>3457</th>\n",
       "      <td>(United States)</td>\n",
       "      <td>2011-10-11</td>\n",
       "      <td>London City-New York JFK via Shannon on A318 b...</td>\n",
       "      <td>4</td>\n",
       "      <td>False</td>\n",
       "    </tr>\n",
       "    <tr>\n",
       "      <th>3458</th>\n",
       "      <td>(United Kingdom)</td>\n",
       "      <td>2011-10-09</td>\n",
       "      <td>SIN-LHR BA12 B747-436 First Class. Old aircraf...</td>\n",
       "      <td>4</td>\n",
       "      <td>False</td>\n",
       "    </tr>\n",
       "  </tbody>\n",
       "</table>\n",
       "<p>3459 rows × 5 columns</p>\n",
       "</div>"
      ],
      "text/plain": [
       "                 country       date  \\\n",
       "0      (United Kingdom)  2023-01-24   \n",
       "1      (United Kingdom)  2023-01-24   \n",
       "2      (United Kingdom)  2023-01-23   \n",
       "3      (United Kingdom)  2023-01-21   \n",
       "4       (United States)  2023-01-19   \n",
       "...                  ...        ...   \n",
       "3454           (Canada)  2012-08-29   \n",
       "3455   (United Kingdom)  2012-08-28   \n",
       "3456   (United Kingdom)  2011-10-12   \n",
       "3457    (United States)  2011-10-11   \n",
       "3458   (United Kingdom)  2011-10-09   \n",
       "\n",
       "                                                reviews rating  verified  \n",
       "0     ✅ Trip Verified | Excellent service both on th...      3      True  \n",
       "1     ✅ Trip Verified |  Good lounge at Cape Town. O...      4      True  \n",
       "2     ✅ Trip Verified |  A really excellent journey....      3      True  \n",
       "3     ✅ Trip Verified |  This flight was one of the ...      1      True  \n",
       "4     Not Verified | It seems that there is a race t...      9     False  \n",
       "...                                                 ...    ...       ...  \n",
       "3454  YYZ to LHR - July 2012 - I flew overnight in p...      8     False  \n",
       "3455  LHR to HAM. Purser addresses all club passenge...      9     False  \n",
       "3456  My son who had worked for British Airways urge...      5     False  \n",
       "3457  London City-New York JFK via Shannon on A318 b...      4     False  \n",
       "3458  SIN-LHR BA12 B747-436 First Class. Old aircraf...      4     False  \n",
       "\n",
       "[3459 rows x 5 columns]"
      ]
     },
     "execution_count": 22,
     "metadata": {},
     "output_type": "execute_result"
    }
   ],
   "source": [
    "df.reset_index(drop=True)"
   ]
  },
  {
   "cell_type": "code",
   "execution_count": 23,
   "id": "e156eb4b",
   "metadata": {},
   "outputs": [
    {
     "data": {
      "text/plain": [
       "0       False\n",
       "1       False\n",
       "2       False\n",
       "3       False\n",
       "4       False\n",
       "        ...  \n",
       "3459    False\n",
       "3460    False\n",
       "3461    False\n",
       "3462    False\n",
       "3463    False\n",
       "Name: rating, Length: 3459, dtype: bool"
      ]
     },
     "execution_count": 23,
     "metadata": {},
     "output_type": "execute_result"
    }
   ],
   "source": [
    "df['rating'].isnull()"
   ]
  },
  {
   "cell_type": "code",
   "execution_count": 24,
   "id": "4ef89481",
   "metadata": {},
   "outputs": [
    {
     "data": {
      "text/plain": [
       "False    2483\n",
       "True      976\n",
       "Name: verified, dtype: int64"
      ]
     },
     "execution_count": 24,
     "metadata": {},
     "output_type": "execute_result"
    }
   ],
   "source": [
    "df['verified'].value_counts()"
   ]
  },
  {
   "cell_type": "markdown",
   "id": "5dc4d2f3",
   "metadata": {},
   "source": [
    "cleaning reviews"
   ]
  },
  {
   "cell_type": "code",
   "execution_count": 25,
   "id": "399f8b0b",
   "metadata": {},
   "outputs": [
    {
     "name": "stderr",
     "output_type": "stream",
     "text": [
      "[nltk_data] Downloading package wordnet to\n",
      "[nltk_data]     C:\\Users\\A\\AppData\\Roaming\\nltk_data...\n",
      "[nltk_data]   Package wordnet is already up-to-date!\n",
      "[nltk_data] Downloading package omw-1.4 to\n",
      "[nltk_data]     C:\\Users\\A\\AppData\\Roaming\\nltk_data...\n",
      "[nltk_data]   Package omw-1.4 is already up-to-date!\n"
     ]
    },
    {
     "data": {
      "text/plain": [
       "True"
      ]
     },
     "execution_count": 25,
     "metadata": {},
     "output_type": "execute_result"
    }
   ],
   "source": [
    "import nltk\n",
    "nltk.download('wordnet')\n",
    "from nltk.stem import WordNetLemmatizer\n",
    "from nltk.corpus import stopwords\n",
    "import re\n",
    "nltk.download('omw-1.4')\n",
    "  "
   ]
  },
  {
   "cell_type": "code",
   "execution_count": 26,
   "id": "d4018eb1",
   "metadata": {},
   "outputs": [],
   "source": [
    "wnl=WordNetLemmatizer()"
   ]
  },
  {
   "cell_type": "code",
   "execution_count": 27,
   "id": "11e7e3b4",
   "metadata": {},
   "outputs": [],
   "source": [
    "r_d=df.reviews.str.strip(\"✅ Trip Verified |\")"
   ]
  },
  {
   "cell_type": "code",
   "execution_count": 28,
   "id": "8af60b01",
   "metadata": {},
   "outputs": [],
   "source": [
    "clean_review=[]\n",
    "for r in r_d:\n",
    "    r = re.sub('[^a-zA-Z]',' ', r)\n",
    "    r = r.lower()\n",
    "    r = r.split()\n",
    "    r= [wnl.lemmatize(word) for word in r if word not in set(stopwords.words(\"english\"))]\n",
    "    r = \" \".join(r)\n",
    "    clean_review.append(r)"
   ]
  },
  {
   "cell_type": "code",
   "execution_count": 29,
   "id": "84337a7f",
   "metadata": {},
   "outputs": [],
   "source": [
    "df['clean_review']=clean_review"
   ]
  },
  {
   "cell_type": "code",
   "execution_count": 30,
   "id": "4932cd3f",
   "metadata": {},
   "outputs": [
    {
     "data": {
      "text/html": [
       "<div>\n",
       "<style scoped>\n",
       "    .dataframe tbody tr th:only-of-type {\n",
       "        vertical-align: middle;\n",
       "    }\n",
       "\n",
       "    .dataframe tbody tr th {\n",
       "        vertical-align: top;\n",
       "    }\n",
       "\n",
       "    .dataframe thead th {\n",
       "        text-align: right;\n",
       "    }\n",
       "</style>\n",
       "<table border=\"1\" class=\"dataframe\">\n",
       "  <thead>\n",
       "    <tr style=\"text-align: right;\">\n",
       "      <th></th>\n",
       "      <th>country</th>\n",
       "      <th>date</th>\n",
       "      <th>reviews</th>\n",
       "      <th>rating</th>\n",
       "      <th>verified</th>\n",
       "      <th>clean_review</th>\n",
       "    </tr>\n",
       "  </thead>\n",
       "  <tbody>\n",
       "    <tr>\n",
       "      <th>0</th>\n",
       "      <td>(United Kingdom)</td>\n",
       "      <td>2023-01-24</td>\n",
       "      <td>✅ Trip Verified | Excellent service both on th...</td>\n",
       "      <td>3</td>\n",
       "      <td>True</td>\n",
       "      <td>excellent service ground board first class pro...</td>\n",
       "    </tr>\n",
       "    <tr>\n",
       "      <th>1</th>\n",
       "      <td>(United Kingdom)</td>\n",
       "      <td>2023-01-24</td>\n",
       "      <td>✅ Trip Verified |  Good lounge at Cape Town. O...</td>\n",
       "      <td>4</td>\n",
       "      <td>True</td>\n",
       "      <td>good lounge cape town time departure drink hig...</td>\n",
       "    </tr>\n",
       "    <tr>\n",
       "      <th>2</th>\n",
       "      <td>(United Kingdom)</td>\n",
       "      <td>2023-01-23</td>\n",
       "      <td>✅ Trip Verified |  A really excellent journey....</td>\n",
       "      <td>3</td>\n",
       "      <td>True</td>\n",
       "      <td>really excellent journey lounge overcrowded la...</td>\n",
       "    </tr>\n",
       "    <tr>\n",
       "      <th>3</th>\n",
       "      <td>(United Kingdom)</td>\n",
       "      <td>2023-01-21</td>\n",
       "      <td>✅ Trip Verified |  This flight was one of the ...</td>\n",
       "      <td>1</td>\n",
       "      <td>True</td>\n",
       "      <td>flight one worst ever life wanted pamper bough...</td>\n",
       "    </tr>\n",
       "    <tr>\n",
       "      <th>4</th>\n",
       "      <td>(United States)</td>\n",
       "      <td>2023-01-19</td>\n",
       "      <td>Not Verified | It seems that there is a race t...</td>\n",
       "      <td>9</td>\n",
       "      <td>False</td>\n",
       "      <td>verified seems race bottom amongst airline can...</td>\n",
       "    </tr>\n",
       "  </tbody>\n",
       "</table>\n",
       "</div>"
      ],
      "text/plain": [
       "              country       date  \\\n",
       "0   (United Kingdom)  2023-01-24   \n",
       "1   (United Kingdom)  2023-01-24   \n",
       "2   (United Kingdom)  2023-01-23   \n",
       "3   (United Kingdom)  2023-01-21   \n",
       "4    (United States)  2023-01-19   \n",
       "\n",
       "                                             reviews rating  verified  \\\n",
       "0  ✅ Trip Verified | Excellent service both on th...      3      True   \n",
       "1  ✅ Trip Verified |  Good lounge at Cape Town. O...      4      True   \n",
       "2  ✅ Trip Verified |  A really excellent journey....      3      True   \n",
       "3  ✅ Trip Verified |  This flight was one of the ...      1      True   \n",
       "4  Not Verified | It seems that there is a race t...      9     False   \n",
       "\n",
       "                                        clean_review  \n",
       "0  excellent service ground board first class pro...  \n",
       "1  good lounge cape town time departure drink hig...  \n",
       "2  really excellent journey lounge overcrowded la...  \n",
       "3  flight one worst ever life wanted pamper bough...  \n",
       "4  verified seems race bottom amongst airline can...  "
      ]
     },
     "execution_count": 30,
     "metadata": {},
     "output_type": "execute_result"
    }
   ],
   "source": [
    "df.head()"
   ]
  },
  {
   "cell_type": "code",
   "execution_count": 31,
   "id": "19e392e9",
   "metadata": {},
   "outputs": [],
   "source": [
    "df.to_csv('BA-nlp')"
   ]
  },
  {
   "cell_type": "code",
   "execution_count": null,
   "id": "db281d1f",
   "metadata": {},
   "outputs": [],
   "source": []
  }
 ],
 "metadata": {
  "kernelspec": {
   "display_name": "Python 3 (ipykernel)",
   "language": "python",
   "name": "python3"
  },
  "language_info": {
   "codemirror_mode": {
    "name": "ipython",
    "version": 3
   },
   "file_extension": ".py",
   "mimetype": "text/x-python",
   "name": "python",
   "nbconvert_exporter": "python",
   "pygments_lexer": "ipython3",
   "version": "3.9.13"
  }
 },
 "nbformat": 4,
 "nbformat_minor": 5
}
